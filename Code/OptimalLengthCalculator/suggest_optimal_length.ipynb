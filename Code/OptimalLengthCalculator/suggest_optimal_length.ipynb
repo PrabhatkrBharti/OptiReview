{
 "cells": [
  {
   "cell_type": "markdown",
   "metadata": {},
   "source": [
    "# Creating framework which gives feedback based on key attributes"
   ]
  },
  {
   "cell_type": "markdown",
   "metadata": {},
   "source": [
    "## Importing Dataset"
   ]
  },
  {
   "cell_type": "code",
   "execution_count": 1,
   "metadata": {},
   "outputs": [],
   "source": [
    "import pandas as pd"
   ]
  },
  {
   "cell_type": "code",
   "execution_count": 2,
   "metadata": {},
   "outputs": [],
   "source": [
    "df = pd.read_csv('../../Datasets/length_optimization_output.csv')"
   ]
  },
  {
   "cell_type": "code",
   "execution_count": 3,
   "metadata": {},
   "outputs": [
    {
     "data": {
      "text/plain": [
       "Index(['IMPACT', 'SUBSTANCE', 'APPROPRIATENESS', 'SOUNDNESS_CORRECTNESS',\n",
       "       'ORIGINALITY', 'RECOMMENDATION', 'CLARITY', 'REVIEWER_CONFIDENCE',\n",
       "       'comments', 'strengths', 'weaknesses', 'general_discussion',\n",
       "       'content_relevance', 'evidence_support', 'strength_argument_score',\n",
       "       'weakness_argument_score', 'argument_strength', 'readability_index',\n",
       "       'sentence_complexity', 'technical_depth', 'total_word_count',\n",
       "       'strength_word_count', 'weakness_word_count', 'discussion_word_count',\n",
       "       'normalized_length', 'unique_key_points', 'information_density',\n",
       "       'unique_insights_per_word', 'optimization_score', 'composite_score',\n",
       "       'review_quality', 'adjusted_argument_strength'],\n",
       "      dtype='object')"
      ]
     },
     "execution_count": 3,
     "metadata": {},
     "output_type": "execute_result"
    }
   ],
   "source": [
    "df.columns"
   ]
  },
  {
   "cell_type": "code",
   "execution_count": 4,
   "metadata": {},
   "outputs": [
    {
     "data": {
      "text/html": [
       "<div>\n",
       "<style scoped>\n",
       "    .dataframe tbody tr th:only-of-type {\n",
       "        vertical-align: middle;\n",
       "    }\n",
       "\n",
       "    .dataframe tbody tr th {\n",
       "        vertical-align: top;\n",
       "    }\n",
       "\n",
       "    .dataframe thead th {\n",
       "        text-align: right;\n",
       "    }\n",
       "</style>\n",
       "<table border=\"1\" class=\"dataframe\">\n",
       "  <thead>\n",
       "    <tr style=\"text-align: right;\">\n",
       "      <th></th>\n",
       "      <th>IMPACT</th>\n",
       "      <th>SUBSTANCE</th>\n",
       "      <th>APPROPRIATENESS</th>\n",
       "      <th>SOUNDNESS_CORRECTNESS</th>\n",
       "      <th>ORIGINALITY</th>\n",
       "      <th>RECOMMENDATION</th>\n",
       "      <th>CLARITY</th>\n",
       "      <th>REVIEWER_CONFIDENCE</th>\n",
       "      <th>comments</th>\n",
       "      <th>strengths</th>\n",
       "      <th>...</th>\n",
       "      <th>weakness_word_count</th>\n",
       "      <th>discussion_word_count</th>\n",
       "      <th>normalized_length</th>\n",
       "      <th>unique_key_points</th>\n",
       "      <th>information_density</th>\n",
       "      <th>unique_insights_per_word</th>\n",
       "      <th>optimization_score</th>\n",
       "      <th>composite_score</th>\n",
       "      <th>review_quality</th>\n",
       "      <th>adjusted_argument_strength</th>\n",
       "    </tr>\n",
       "  </thead>\n",
       "  <tbody>\n",
       "    <tr>\n",
       "      <th>0</th>\n",
       "      <td>0.6</td>\n",
       "      <td>0.8</td>\n",
       "      <td>1.0</td>\n",
       "      <td>0.8</td>\n",
       "      <td>0.6</td>\n",
       "      <td>0.6</td>\n",
       "      <td>0.6</td>\n",
       "      <td>0.6</td>\n",
       "      <td>- Strengths:\\n* Outperforms ALIGN in supervise...</td>\n",
       "      <td>* Outperforms ALIGN in supervised entity linki...</td>\n",
       "      <td>...</td>\n",
       "      <td>167</td>\n",
       "      <td>0</td>\n",
       "      <td>0.157967</td>\n",
       "      <td>3</td>\n",
       "      <td>0.013043</td>\n",
       "      <td>18.991304</td>\n",
       "      <td>0.143186</td>\n",
       "      <td>3.474115</td>\n",
       "      <td>Poor</td>\n",
       "      <td>0.073401</td>\n",
       "    </tr>\n",
       "    <tr>\n",
       "      <th>1</th>\n",
       "      <td>0.6</td>\n",
       "      <td>0.8</td>\n",
       "      <td>1.0</td>\n",
       "      <td>0.8</td>\n",
       "      <td>0.6</td>\n",
       "      <td>0.8</td>\n",
       "      <td>0.6</td>\n",
       "      <td>0.8</td>\n",
       "      <td>This paper addresses the problem of disambigua...</td>\n",
       "      <td>No information available</td>\n",
       "      <td>...</td>\n",
       "      <td>0</td>\n",
       "      <td>0</td>\n",
       "      <td>0.497253</td>\n",
       "      <td>7</td>\n",
       "      <td>0.009669</td>\n",
       "      <td>14.077348</td>\n",
       "      <td>-0.031610</td>\n",
       "      <td>5.827519</td>\n",
       "      <td>Moderate</td>\n",
       "      <td>0.017836</td>\n",
       "    </tr>\n",
       "    <tr>\n",
       "      <th>2</th>\n",
       "      <td>0.6</td>\n",
       "      <td>0.8</td>\n",
       "      <td>0.8</td>\n",
       "      <td>0.8</td>\n",
       "      <td>0.6</td>\n",
       "      <td>0.8</td>\n",
       "      <td>0.6</td>\n",
       "      <td>0.8</td>\n",
       "      <td>- Strengths:\\nGood ideas, simple neural learni...</td>\n",
       "      <td>Good ideas, simple neural learning, interestin...</td>\n",
       "      <td>...</td>\n",
       "      <td>0</td>\n",
       "      <td>0</td>\n",
       "      <td>0.208104</td>\n",
       "      <td>3</td>\n",
       "      <td>0.009901</td>\n",
       "      <td>14.415842</td>\n",
       "      <td>0.099582</td>\n",
       "      <td>2.552753</td>\n",
       "      <td>Poor</td>\n",
       "      <td>0.034617</td>\n",
       "    </tr>\n",
       "    <tr>\n",
       "      <th>3</th>\n",
       "      <td>0.6</td>\n",
       "      <td>0.8</td>\n",
       "      <td>1.0</td>\n",
       "      <td>0.8</td>\n",
       "      <td>0.6</td>\n",
       "      <td>0.6</td>\n",
       "      <td>1.0</td>\n",
       "      <td>0.8</td>\n",
       "      <td>- Strengths:\\nThe idea of hard monotonic atten...</td>\n",
       "      <td>The idea of hard monotonic attention is new an...</td>\n",
       "      <td>...</td>\n",
       "      <td>46</td>\n",
       "      <td>133</td>\n",
       "      <td>0.136676</td>\n",
       "      <td>2</td>\n",
       "      <td>0.010050</td>\n",
       "      <td>14.633166</td>\n",
       "      <td>0.132916</td>\n",
       "      <td>3.615575</td>\n",
       "      <td>Poor</td>\n",
       "      <td>0.067018</td>\n",
       "    </tr>\n",
       "    <tr>\n",
       "      <th>4</th>\n",
       "      <td>0.6</td>\n",
       "      <td>0.8</td>\n",
       "      <td>1.0</td>\n",
       "      <td>0.8</td>\n",
       "      <td>0.6</td>\n",
       "      <td>0.6</td>\n",
       "      <td>1.0</td>\n",
       "      <td>0.6</td>\n",
       "      <td>- Strengths: A new encoder-decoder model is pr...</td>\n",
       "      <td>No information available</td>\n",
       "      <td>...</td>\n",
       "      <td>0</td>\n",
       "      <td>848</td>\n",
       "      <td>0.609203</td>\n",
       "      <td>9</td>\n",
       "      <td>0.010147</td>\n",
       "      <td>14.773393</td>\n",
       "      <td>-0.070128</td>\n",
       "      <td>18.261790</td>\n",
       "      <td>Excellent</td>\n",
       "      <td>0.012103</td>\n",
       "    </tr>\n",
       "  </tbody>\n",
       "</table>\n",
       "<p>5 rows × 32 columns</p>\n",
       "</div>"
      ],
      "text/plain": [
       "   IMPACT  SUBSTANCE  APPROPRIATENESS  SOUNDNESS_CORRECTNESS  ORIGINALITY  \\\n",
       "0     0.6        0.8              1.0                    0.8          0.6   \n",
       "1     0.6        0.8              1.0                    0.8          0.6   \n",
       "2     0.6        0.8              0.8                    0.8          0.6   \n",
       "3     0.6        0.8              1.0                    0.8          0.6   \n",
       "4     0.6        0.8              1.0                    0.8          0.6   \n",
       "\n",
       "   RECOMMENDATION  CLARITY  REVIEWER_CONFIDENCE  \\\n",
       "0             0.6      0.6                  0.6   \n",
       "1             0.8      0.6                  0.8   \n",
       "2             0.8      0.6                  0.8   \n",
       "3             0.6      1.0                  0.8   \n",
       "4             0.6      1.0                  0.6   \n",
       "\n",
       "                                            comments  \\\n",
       "0  - Strengths:\\n* Outperforms ALIGN in supervise...   \n",
       "1  This paper addresses the problem of disambigua...   \n",
       "2  - Strengths:\\nGood ideas, simple neural learni...   \n",
       "3  - Strengths:\\nThe idea of hard monotonic atten...   \n",
       "4  - Strengths: A new encoder-decoder model is pr...   \n",
       "\n",
       "                                           strengths  ... weakness_word_count  \\\n",
       "0  * Outperforms ALIGN in supervised entity linki...  ...                 167   \n",
       "1                           No information available  ...                   0   \n",
       "2  Good ideas, simple neural learning, interestin...  ...                   0   \n",
       "3  The idea of hard monotonic attention is new an...  ...                  46   \n",
       "4                           No information available  ...                   0   \n",
       "\n",
       "  discussion_word_count  normalized_length  unique_key_points  \\\n",
       "0                     0           0.157967                  3   \n",
       "1                     0           0.497253                  7   \n",
       "2                     0           0.208104                  3   \n",
       "3                   133           0.136676                  2   \n",
       "4                   848           0.609203                  9   \n",
       "\n",
       "   information_density  unique_insights_per_word  optimization_score  \\\n",
       "0             0.013043                 18.991304            0.143186   \n",
       "1             0.009669                 14.077348           -0.031610   \n",
       "2             0.009901                 14.415842            0.099582   \n",
       "3             0.010050                 14.633166            0.132916   \n",
       "4             0.010147                 14.773393           -0.070128   \n",
       "\n",
       "   composite_score  review_quality  adjusted_argument_strength  \n",
       "0         3.474115            Poor                    0.073401  \n",
       "1         5.827519        Moderate                    0.017836  \n",
       "2         2.552753            Poor                    0.034617  \n",
       "3         3.615575            Poor                    0.067018  \n",
       "4        18.261790       Excellent                    0.012103  \n",
       "\n",
       "[5 rows x 32 columns]"
      ]
     },
     "execution_count": 4,
     "metadata": {},
     "output_type": "execute_result"
    }
   ],
   "source": [
    "df.head()"
   ]
  },
  {
   "cell_type": "markdown",
   "metadata": {},
   "source": [
    "## Calculating Thresholds"
   ]
  },
  {
   "cell_type": "code",
   "execution_count": 5,
   "metadata": {},
   "outputs": [],
   "source": [
    "import numpy as np\n",
    "from scipy.stats import gaussian_kde\n",
    "from sklearn.mixture import GaussianMixture\n",
    "from scipy.signal import argrelextrema"
   ]
  },
  {
   "cell_type": "code",
   "execution_count": 6,
   "metadata": {},
   "outputs": [],
   "source": [
    "def pct_thresholds(series, lower_pct=0.25, upper_pct=0.75):\n",
    "    \"\"\"Return the lower and upper percentile cutoffs for a pandas Series.\"\"\"\n",
    "    p_low, p_high = series.quantile([lower_pct, upper_pct])\n",
    "    return float(p_low), float(p_high)"
   ]
  },
  {
   "cell_type": "code",
   "execution_count": 7,
   "metadata": {},
   "outputs": [],
   "source": [
    "def kde_valley(series, grid_size=1000):\n",
    "    \"\"\"\n",
    "    Fit a 1D KDE and return the x‐value of the most prominent valley\n",
    "    between the two highest peaks.\n",
    "    \"\"\"\n",
    "    x = series.dropna().values\n",
    "    kde = gaussian_kde(x)\n",
    "    xs = np.linspace(x.min(), x.max(), grid_size)\n",
    "    ys = kde(xs)\n",
    "\n",
    "    # find peaks and valleys\n",
    "    peaks = argrelextrema(ys, np.greater)[0]\n",
    "    valleys = argrelextrema(ys, np.less)[0]\n",
    "\n",
    "    if len(peaks) < 2 or len(valleys) < 1:\n",
    "        # fallback to median\n",
    "        return float(series.median())\n",
    "\n",
    "    # choose the first valley that lies between the two highest peaks\n",
    "    peak_heights = ys[peaks]\n",
    "    top2 = peaks[np.argsort(peak_heights)[-2:]]\n",
    "    low, high = sorted(top2)\n",
    "    valid_valleys = [v for v in valleys if low < v < high]\n",
    "    if not valid_valleys:\n",
    "        return float(series.median())\n",
    "    # map back to x coordinate\n",
    "    return float(xs[valid_valleys[0]])"
   ]
  },
  {
   "cell_type": "code",
   "execution_count": 8,
   "metadata": {},
   "outputs": [],
   "source": [
    "derived_thresholds = {}"
   ]
  },
  {
   "cell_type": "code",
   "execution_count": 9,
   "metadata": {},
   "outputs": [],
   "source": [
    "# normalized_length: use 25th & 75th percentiles\n",
    "derived_thresholds['normalized_length'] = pct_thresholds(df['normalized_length'], 0.25, 0.75)"
   ]
  },
  {
   "cell_type": "code",
   "execution_count": 10,
   "metadata": {},
   "outputs": [],
   "source": [
    "# unique_key_points: 25th & 75th percentiles\n",
    "derived_thresholds['unique_key_points'] = pct_thresholds(df['unique_key_points'], 0.25, 0.75)"
   ]
  },
  {
   "cell_type": "code",
   "execution_count": 11,
   "metadata": {},
   "outputs": [],
   "source": [
    "# information_density: 25th & 75th percentiles\n",
    "derived_thresholds['information_density'] = pct_thresholds(df['information_density'], 0.25, 0.75)"
   ]
  },
  {
   "cell_type": "code",
   "execution_count": 12,
   "metadata": {},
   "outputs": [],
   "source": [
    "# unique_insights_per_word: median split\n",
    "derived_thresholds['unique_insights_per_word'] = float(df['unique_insights_per_word'].median())"
   ]
  },
  {
   "cell_type": "code",
   "execution_count": 13,
   "metadata": {},
   "outputs": [],
   "source": [
    "# composite_score: via 3‑way GMM, so reusing those two intersections\n",
    "derived_thresholds['composite_score'] = (4.5941101516587315, 10.581525294084457) "
   ]
  },
  {
   "cell_type": "code",
   "execution_count": 14,
   "metadata": {},
   "outputs": [],
   "source": [
    "# adjusted_argument_strength: 75th percentile for “high” strength\n",
    "derived_thresholds['adjusted_argument_strength'] = float(df['adjusted_argument_strength'].quantile(0.75))"
   ]
  },
  {
   "cell_type": "code",
   "execution_count": 15,
   "metadata": {},
   "outputs": [
    {
     "name": "stdout",
     "output_type": "stream",
     "text": [
      "Empirical THRESHOLDS =\n",
      "  normalized_length: (0.1510989010989011, 0.3722527472527472)\n",
      "  unique_key_points: (2.0, 5.0)\n",
      "  information_density: (0.00727669710202455, 0.011291644452510826)\n",
      "  unique_insights_per_word: 13.607476635514018\n",
      "  composite_score: (4.5941101516587315, 10.581525294084457)\n",
      "  adjusted_argument_strength: 0.0616150390018116\n"
     ]
    }
   ],
   "source": [
    "print(\"Empirical THRESHOLDS =\")\n",
    "for k,v in derived_thresholds.items():\n",
    "    print(f\"  {k}: {v}\")"
   ]
  },
  {
   "cell_type": "markdown",
   "metadata": {},
   "source": [
    "## Key Metrics and Thresholds"
   ]
  },
  {
   "cell_type": "markdown",
   "metadata": {},
   "source": [
    "### normalized_length:\n",
    "\n",
    "Range: Optimal between 0.1510989010989011 – 0.3722527472527472\n",
    "\n",
    "Below 0.1510989010989011: Too concise (expand content).\n",
    "\n",
    "Above 0.3722527472527472: Too verbose (condense content).\n",
    "\n",
    "### unique_key_points:\n",
    "\n",
    "Range: Optimal between 2 – 5\n",
    "\n",
    "Below 2: Insufficient insights (add more unique ideas).\n",
    "\n",
    "Above 5: Overloaded with ideas (streamline).\n",
    "\n",
    "### information_density:\n",
    "\n",
    "Range: Optimal between 0.00727669710202455 – 0.011291644452510826\n",
    "\n",
    "Below 0.00727669710202455: Low density (improve relevance and focus).\n",
    "\n",
    "Above 0.011291644452510826: High density (remove less relevant details).\n",
    "\n",
    "### unique_insights_per_word:\n",
    "\n",
    "Threshold: > 13.607476635514018\n",
    "\n",
    "Below 13.607476635514018: Redundant content (suggest condensation).\n",
    "\n",
    "### adjusted_argument_strength:\n",
    "\n",
    "Range: Optimal > 0.0616150390018116\n",
    "\n",
    "Below 0.0616150390018116: Weak arguments (recommend improving logical consistency or evidence).\n",
    "\n",
    "### review_quality:\n",
    "\n",
    "Categories: 'Excellent', 'Moderate', 'Poor'.\n",
    "\n",
    "If 'Low': Significant revision required.\n",
    "\n",
    "If 'Moderate': Minor adjustments for improvement.\n",
    "\n",
    "If 'High': No major changes needed."
   ]
  },
  {
   "cell_type": "markdown",
   "metadata": {},
   "source": [
    "## Creating Framework"
   ]
  },
  {
   "cell_type": "code",
   "execution_count": 16,
   "metadata": {},
   "outputs": [],
   "source": [
    "THRESHOLDS = derived_thresholds"
   ]
  },
  {
   "cell_type": "code",
   "execution_count": 17,
   "metadata": {},
   "outputs": [],
   "source": [
    "def heuristic_optimization(row):\n",
    "    suggestions = []\n",
    "\n",
    "    if row[\"strength_word_count\"] > 100 and row[\"strength_argument_score\"] < THRESHOLDS[\"adjusted_argument_strength\"]:\n",
    "        suggestions.append(\"Summarize redundant strengths.\")\n",
    "    elif row[\"strength_word_count\"] < 50 and row[\"strength_argument_score\"] < THRESHOLDS[\"adjusted_argument_strength\"]:\n",
    "        suggestions.append(\"Add more impactful strengths.\")\n",
    "\n",
    "    if row[\"weakness_word_count\"] > 100 and row[\"weakness_argument_score\"] < THRESHOLDS[\"adjusted_argument_strength\"]:\n",
    "        suggestions.append(\"Remove repetitive criticisms.\")\n",
    "    elif row[\"weakness_word_count\"] < 50 and row[\"weakness_argument_score\"] < THRESHOLDS[\"adjusted_argument_strength\"]:\n",
    "        suggestions.append(\"Add specific, actionable weaknesses.\")\n",
    "\n",
    "    if row[\"discussion_word_count\"] < 100 and row[\"information_density\"] < THRESHOLDS[\"information_density\"][0]:\n",
    "        suggestions.append(\"Elaborate with new insights or examples.\")\n",
    "    elif row[\"discussion_word_count\"] > 300 and row[\"information_density\"] > THRESHOLDS[\"information_density\"][1]:\n",
    "        suggestions.append(\"Summarize key discussion points.\")\n",
    "\n",
    "    if row[\"normalized_length\"] < THRESHOLDS[\"normalized_length\"][0]:\n",
    "        suggestions.append(\"Expand sections for better coverage.\")\n",
    "    elif row[\"normalized_length\"] > THRESHOLDS[\"normalized_length\"][1]:\n",
    "        suggestions.append(\"Condense content to improve readability.\")\n",
    "\n",
    "    if row[\"unique_key_points\"] < THRESHOLDS[\"unique_key_points\"][0]:\n",
    "        suggestions.append(\"Add more unique insights.\")\n",
    "    elif row[\"unique_key_points\"] > THRESHOLDS[\"unique_key_points\"][1]:\n",
    "        suggestions.append(\"Streamline ideas for clarity.\")\n",
    "\n",
    "    if row[\"review_quality\"] == \"Low\":\n",
    "        suggestions.append(\"Significant revisions required.\")\n",
    "    elif row[\"review_quality\"] == \"Moderate\":\n",
    "        suggestions.append(\"Minor refinements recommended.\")\n",
    "\n",
    "    return suggestions"
   ]
  },
  {
   "cell_type": "code",
   "execution_count": 18,
   "metadata": {},
   "outputs": [],
   "source": [
    "df[\"optimization_suggestions\"] = df.apply(heuristic_optimization, axis=1)"
   ]
  },
  {
   "cell_type": "code",
   "execution_count": 19,
   "metadata": {},
   "outputs": [
    {
     "data": {
      "text/html": [
       "<div>\n",
       "<style scoped>\n",
       "    .dataframe tbody tr th:only-of-type {\n",
       "        vertical-align: middle;\n",
       "    }\n",
       "\n",
       "    .dataframe tbody tr th {\n",
       "        vertical-align: top;\n",
       "    }\n",
       "\n",
       "    .dataframe thead th {\n",
       "        text-align: right;\n",
       "    }\n",
       "</style>\n",
       "<table border=\"1\" class=\"dataframe\">\n",
       "  <thead>\n",
       "    <tr style=\"text-align: right;\">\n",
       "      <th></th>\n",
       "      <th>optimization_suggestions</th>\n",
       "    </tr>\n",
       "  </thead>\n",
       "  <tbody>\n",
       "    <tr>\n",
       "      <th>0</th>\n",
       "      <td>[]</td>\n",
       "    </tr>\n",
       "    <tr>\n",
       "      <th>1</th>\n",
       "      <td>[Condense content to improve readability., Str...</td>\n",
       "    </tr>\n",
       "    <tr>\n",
       "      <th>2</th>\n",
       "      <td>[]</td>\n",
       "    </tr>\n",
       "    <tr>\n",
       "      <th>3</th>\n",
       "      <td>[Expand sections for better coverage.]</td>\n",
       "    </tr>\n",
       "    <tr>\n",
       "      <th>4</th>\n",
       "      <td>[Condense content to improve readability., Str...</td>\n",
       "    </tr>\n",
       "    <tr>\n",
       "      <th>5</th>\n",
       "      <td>[]</td>\n",
       "    </tr>\n",
       "    <tr>\n",
       "      <th>6</th>\n",
       "      <td>[]</td>\n",
       "    </tr>\n",
       "    <tr>\n",
       "      <th>7</th>\n",
       "      <td>[Expand sections for better coverage.]</td>\n",
       "    </tr>\n",
       "    <tr>\n",
       "      <th>8</th>\n",
       "      <td>[Elaborate with new insights or examples., Con...</td>\n",
       "    </tr>\n",
       "    <tr>\n",
       "      <th>9</th>\n",
       "      <td>[Elaborate with new insights or examples., Exp...</td>\n",
       "    </tr>\n",
       "  </tbody>\n",
       "</table>\n",
       "</div>"
      ],
      "text/plain": [
       "                            optimization_suggestions\n",
       "0                                                 []\n",
       "1  [Condense content to improve readability., Str...\n",
       "2                                                 []\n",
       "3             [Expand sections for better coverage.]\n",
       "4  [Condense content to improve readability., Str...\n",
       "5                                                 []\n",
       "6                                                 []\n",
       "7             [Expand sections for better coverage.]\n",
       "8  [Elaborate with new insights or examples., Con...\n",
       "9  [Elaborate with new insights or examples., Exp..."
      ]
     },
     "metadata": {},
     "output_type": "display_data"
    }
   ],
   "source": [
    "display(df[[\"optimization_suggestions\"]].head(10))"
   ]
  }
 ],
 "metadata": {
  "kernelspec": {
   "display_name": "Python 3",
   "language": "python",
   "name": "python3"
  },
  "language_info": {
   "codemirror_mode": {
    "name": "ipython",
    "version": 3
   },
   "file_extension": ".py",
   "mimetype": "text/x-python",
   "name": "python",
   "nbconvert_exporter": "python",
   "pygments_lexer": "ipython3",
   "version": "3.11.9"
  }
 },
 "nbformat": 4,
 "nbformat_minor": 2
}
